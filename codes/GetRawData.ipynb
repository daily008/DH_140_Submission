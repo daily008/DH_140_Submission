{
 "cells": [
  {
   "cell_type": "code",
   "execution_count": 6,
   "id": "587dda98",
   "metadata": {},
   "outputs": [
    {
     "name": "stdout",
     "output_type": "stream",
     "text": [
      "Requirement already satisfied: elsapy in /opt/conda/lib/python3.10/site-packages (0.5.1)\n",
      "Requirement already satisfied: requests in /opt/conda/lib/python3.10/site-packages (from elsapy) (2.28.2)\n",
      "Requirement already satisfied: idna<4,>=2.5 in /opt/conda/lib/python3.10/site-packages (from requests->elsapy) (3.4)\n",
      "Requirement already satisfied: urllib3<1.27,>=1.21.1 in /opt/conda/lib/python3.10/site-packages (from requests->elsapy) (1.26.14)\n",
      "Requirement already satisfied: charset-normalizer<4,>=2 in /opt/conda/lib/python3.10/site-packages (from requests->elsapy) (3.0.1)\n",
      "Requirement already satisfied: certifi>=2017.4.17 in /opt/conda/lib/python3.10/site-packages (from requests->elsapy) (2022.12.7)\n",
      "Note: you may need to restart the kernel to use updated packages.\n"
     ]
    }
   ],
   "source": [
    "pip install elsapy"
   ]
  },
  {
   "cell_type": "code",
   "execution_count": 7,
   "id": "fec9af7f",
   "metadata": {},
   "outputs": [
    {
     "name": "stdout",
     "output_type": "stream",
     "text": [
      "Collecting xlwt\n",
      "  Downloading xlwt-1.3.0-py2.py3-none-any.whl (99 kB)\n",
      "\u001b[2K     \u001b[90m━━━━━━━━━━━━━━━━━━━━━━━━━━━━━━━━━━━━━━━\u001b[0m \u001b[32m100.0/100.0 kB\u001b[0m \u001b[31m2.2 MB/s\u001b[0m eta \u001b[36m0:00:00\u001b[0ma \u001b[36m0:00:01\u001b[0m\n",
      "\u001b[?25hInstalling collected packages: xlwt\n",
      "Successfully installed xlwt-1.3.0\n",
      "Note: you may need to restart the kernel to use updated packages.\n"
     ]
    }
   ],
   "source": [
    "pip install xlwt"
   ]
  },
  {
   "cell_type": "code",
   "execution_count": 23,
   "id": "78bdd7a2",
   "metadata": {},
   "outputs": [
    {
     "name": "stdout",
     "output_type": "stream",
     "text": [
      "12\n",
      "12\n",
      "12\n",
      "12\n"
     ]
    },
    {
     "ename": "KeyboardInterrupt",
     "evalue": "",
     "output_type": "error",
     "traceback": [
      "\u001b[0;31m---------------------------------------------------------------------------\u001b[0m",
      "\u001b[0;31mKeyboardInterrupt\u001b[0m                         Traceback (most recent call last)",
      "Cell \u001b[0;32mIn[23], line 67\u001b[0m\n\u001b[1;32m     64\u001b[0m pii \u001b[38;5;241m=\u001b[39m get_pii(item)\n\u001b[1;32m     65\u001b[0m pii_doc \u001b[38;5;241m=\u001b[39m FullDoc(sd_pii\u001b[38;5;241m=\u001b[39mpii)\n\u001b[0;32m---> 67\u001b[0m \u001b[38;5;28;01mif\u001b[39;00m \u001b[43mpii_doc\u001b[49m\u001b[38;5;241;43m.\u001b[39;49m\u001b[43mread\u001b[49m\u001b[43m(\u001b[49m\u001b[43mclient\u001b[49m\u001b[43m)\u001b[49m:\n\u001b[1;32m     68\u001b[0m     all_data \u001b[38;5;241m=\u001b[39m pii_doc\u001b[38;5;241m.\u001b[39mdata\n\u001b[1;32m     69\u001b[0m     document_doi \u001b[38;5;241m=\u001b[39m pii_doc\u001b[38;5;241m.\u001b[39muri\n",
      "File \u001b[0;32m/opt/conda/lib/python3.10/site-packages/elsapy/elsdoc.py:47\u001b[0m, in \u001b[0;36mFullDoc.read\u001b[0;34m(self, els_client)\u001b[0m\n\u001b[1;32m     44\u001b[0m \u001b[38;5;28;01mdef\u001b[39;00m \u001b[38;5;21mread\u001b[39m(\u001b[38;5;28mself\u001b[39m, els_client \u001b[38;5;241m=\u001b[39m \u001b[38;5;28;01mNone\u001b[39;00m):\n\u001b[1;32m     45\u001b[0m \u001b[38;5;250m    \u001b[39m\u001b[38;5;124;03m\"\"\"Reads the JSON representation of the document from ELSAPI.\u001b[39;00m\n\u001b[1;32m     46\u001b[0m \u001b[38;5;124;03m         Returns True if successful; else, False.\"\"\"\u001b[39;00m\n\u001b[0;32m---> 47\u001b[0m     \u001b[38;5;28;01mif\u001b[39;00m \u001b[38;5;28;43msuper\u001b[39;49m\u001b[43m(\u001b[49m\u001b[43m)\u001b[49m\u001b[38;5;241;43m.\u001b[39;49m\u001b[43mread\u001b[49m\u001b[43m(\u001b[49m\u001b[38;5;28;43mself\u001b[39;49m\u001b[38;5;241;43m.\u001b[39;49m\u001b[43m__payload_type\u001b[49m\u001b[43m,\u001b[49m\u001b[43m \u001b[49m\u001b[43mels_client\u001b[49m\u001b[43m)\u001b[49m:\n\u001b[1;32m     48\u001b[0m         \u001b[38;5;28;01mreturn\u001b[39;00m \u001b[38;5;28;01mTrue\u001b[39;00m\n\u001b[1;32m     49\u001b[0m     \u001b[38;5;28;01melse\u001b[39;00m:\n",
      "File \u001b[0;32m/opt/conda/lib/python3.10/site-packages/elsapy/elsentity.py:71\u001b[0m, in \u001b[0;36mElsEntity.read\u001b[0;34m(self, payloadType, elsClient)\u001b[0m\n\u001b[1;32m     69\u001b[0m     \u001b[38;5;28;01mraise\u001b[39;00m \u001b[38;5;167;01mValueError\u001b[39;00m(\u001b[38;5;124m'''\u001b[39m\u001b[38;5;124mEntity object not currently bound to elsClient instance. Call .read() with elsClient argument or set .client attribute.\u001b[39m\u001b[38;5;124m'''\u001b[39m)\n\u001b[1;32m     70\u001b[0m \u001b[38;5;28;01mtry\u001b[39;00m:\n\u001b[0;32m---> 71\u001b[0m     api_response \u001b[38;5;241m=\u001b[39m \u001b[38;5;28;43mself\u001b[39;49m\u001b[38;5;241;43m.\u001b[39;49m\u001b[43mclient\u001b[49m\u001b[38;5;241;43m.\u001b[39;49m\u001b[43mexec_request\u001b[49m\u001b[43m(\u001b[49m\u001b[38;5;28;43mself\u001b[39;49m\u001b[38;5;241;43m.\u001b[39;49m\u001b[43muri\u001b[49m\u001b[43m)\u001b[49m\n\u001b[1;32m     72\u001b[0m     \u001b[38;5;28;01mif\u001b[39;00m \u001b[38;5;28misinstance\u001b[39m(api_response[payloadType], \u001b[38;5;28mlist\u001b[39m):\n\u001b[1;32m     73\u001b[0m         \u001b[38;5;28mself\u001b[39m\u001b[38;5;241m.\u001b[39m_data \u001b[38;5;241m=\u001b[39m api_response[payloadType][\u001b[38;5;241m0\u001b[39m]\n",
      "File \u001b[0;32m/opt/conda/lib/python3.10/site-packages/elsapy/elsclient.py:99\u001b[0m, in \u001b[0;36mElsClient.exec_request\u001b[0;34m(self, URL)\u001b[0m\n\u001b[1;32m     97\u001b[0m interval \u001b[38;5;241m=\u001b[39m time\u001b[38;5;241m.\u001b[39mtime() \u001b[38;5;241m-\u001b[39m \u001b[38;5;28mself\u001b[39m\u001b[38;5;241m.\u001b[39m__ts_last_req\n\u001b[1;32m     98\u001b[0m \u001b[38;5;28;01mif\u001b[39;00m (interval \u001b[38;5;241m<\u001b[39m \u001b[38;5;28mself\u001b[39m\u001b[38;5;241m.\u001b[39m__min_req_interval):\n\u001b[0;32m---> 99\u001b[0m     \u001b[43mtime\u001b[49m\u001b[38;5;241;43m.\u001b[39;49m\u001b[43msleep\u001b[49m\u001b[43m(\u001b[49m\u001b[43m \u001b[49m\u001b[38;5;28;43mself\u001b[39;49m\u001b[38;5;241;43m.\u001b[39;49m\u001b[43m__min_req_interval\u001b[49m\u001b[43m \u001b[49m\u001b[38;5;241;43m-\u001b[39;49m\u001b[43m \u001b[49m\u001b[43minterval\u001b[49m\u001b[43m \u001b[49m\u001b[43m)\u001b[49m\n\u001b[1;32m    101\u001b[0m \u001b[38;5;66;03m## Construct and execute request\u001b[39;00m\n\u001b[1;32m    102\u001b[0m headers \u001b[38;5;241m=\u001b[39m {\n\u001b[1;32m    103\u001b[0m     \u001b[38;5;124m\"\u001b[39m\u001b[38;5;124mX-ELS-APIKey\u001b[39m\u001b[38;5;124m\"\u001b[39m  : \u001b[38;5;28mself\u001b[39m\u001b[38;5;241m.\u001b[39mapi_key,\n\u001b[1;32m    104\u001b[0m     \u001b[38;5;124m\"\u001b[39m\u001b[38;5;124mUser-Agent\u001b[39m\u001b[38;5;124m\"\u001b[39m    : \u001b[38;5;28mself\u001b[39m\u001b[38;5;241m.\u001b[39m__user_agent,\n\u001b[1;32m    105\u001b[0m     \u001b[38;5;124m\"\u001b[39m\u001b[38;5;124mAccept\u001b[39m\u001b[38;5;124m\"\u001b[39m        : \u001b[38;5;124m'\u001b[39m\u001b[38;5;124mapplication/json\u001b[39m\u001b[38;5;124m'\u001b[39m\n\u001b[1;32m    106\u001b[0m     }\n",
      "\u001b[0;31mKeyboardInterrupt\u001b[0m: "
     ]
    }
   ],
   "source": [
    "from elsapy.elsclient import ElsClient\n",
    "from elsapy.elsprofile import ElsAuthor, ElsAffil\n",
    "from elsapy.elsdoc import FullDoc, AbsDoc\n",
    "from elsapy.elssearch import ElsSearch\n",
    "import json\n",
    "import re\n",
    "import csv\n",
    "import xlwt\n",
    "\n",
    "\n",
    "\n",
    "def read_json(input):\n",
    "    author = []\n",
    "    all_author = input[\"coredata\"]['dc:creator']\n",
    "\n",
    "    for v in all_author:\n",
    "        try:\n",
    "            author.append(v['$'])\n",
    "        except TypeError as e:\n",
    "            print(e)\n",
    "            print(v)\n",
    "            return [all_author['$']]\n",
    "        return author\n",
    "\n",
    "def get_pii(url): #get pii (the id of articles on ScienceDirect) with doi\n",
    "    value = re.search(\"pii/S.*\",url).group()\n",
    "    \n",
    "    return value[4:]\n",
    "\n",
    "def get_doi(url): #git full doi with initalized doi  \n",
    "    value = re.search(\"org/10.*\",url).group()\n",
    "    return value[4:]\n",
    "\n",
    "\n",
    "if __name__ == \"__main__\":\n",
    "    ## Load configuration\n",
    "    con_file = open(\"../data/config.json\")\n",
    "    config = json.load(con_file)\n",
    "    con_file.close()\n",
    "\n",
    "    ## Initialize client\n",
    "    client = ElsClient(config['apikey'])\n",
    "\n",
    "    all_datapaper_doi = []\n",
    "    all_originalpaper_doi = []\n",
    "    with open(\"../data/Rawdata.csv\", encoding=\"utf-8\") as f:\n",
    "        for row in csv.reader(f, skipinitialspace=False):\n",
    "            doiurl = \"https://doi.org/\" + row[0]\n",
    "            all_datapaper_doi.append(doiurl) #get dois from RawData\n",
    "            piiurl = \"https://www.sciencedirect.com//science/article/pii/\" + row[1]\n",
    "            all_originalpaper_doi.append(piiurl)\n",
    "        f.close()\n",
    "\n",
    "    file = open(\"../output/data_paper_author_output.csv\", 'a+', encoding= \"utf-8-sig\", newline='')\n",
    "    csv_writer = csv.writer(file)\n",
    "    \n",
    "\n",
    "    for item in all_originalpaper_doi:\n",
    "        rank = 0\n",
    "        print (\"12\")\n",
    "        if item == \"\":\n",
    "            print(\"222\") #the print out here is used for monitoring the progress and errors when the code is running\n",
    "            break\n",
    "        pii = get_pii(item)\n",
    "        pii_doc = FullDoc(sd_pii=pii)\n",
    "\n",
    "        if pii_doc.read(client):\n",
    "            all_data = pii_doc.data\n",
    "            document_doi = pii_doc.uri\n",
    "            pii_doc.write()\n",
    "            authors = read_json(all_data) #get the author information from the json data returned by Scopous API\n",
    "\n",
    "            for person in authors:\n",
    "                rank = rank + 1\n",
    "                csv_writer.writerow([item, document_doi, person, rank])\n",
    "        else:\n",
    "            print (\"Read document failed.\")\n",
    "            csv_writer.writerow([item,\"failed\",\"failed\"])\n",
    "\n",
    "    for item in all_datapaper_doi:\n",
    "        rank = 0\n",
    "        if item is None:\n",
    "            break\n",
    "        k = get_doi(item)\n",
    "        pii_doc = FullDoc(doi= k)\n",
    "\n",
    "        if pii_doc.read(client):\n",
    "            all_data = pii_doc.data\n",
    "            document_doi = pii_doc.uri\n",
    "            pii_doc.write()\n",
    "            authors = read_json(all_data) ##get the author information from the json data returned by Scopous API\n",
    "            for person in authors:\n",
    "                rank = rank + 1\n",
    "\n",
    "                csv_writer.writerow([item, document_doi, person, rank])\n",
    "        else:\n",
    "            print (\"Read document failed.\")\n",
    "            csv_writer.writerow([item,\"failed\",\"failed\"])\n",
    "\n",
    "    file.close()"
   ]
  }
 ],
 "metadata": {
  "kernelspec": {
   "display_name": "Python 3 (ipykernel)",
   "language": "python",
   "name": "python3"
  },
  "language_info": {
   "codemirror_mode": {
    "name": "ipython",
    "version": 3
   },
   "file_extension": ".py",
   "mimetype": "text/x-python",
   "name": "python",
   "nbconvert_exporter": "python",
   "pygments_lexer": "ipython3",
   "version": "3.10.8"
  }
 },
 "nbformat": 4,
 "nbformat_minor": 5
}
